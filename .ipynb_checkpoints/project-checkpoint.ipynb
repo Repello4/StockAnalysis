{
 "cells": [
  {
   "cell_type": "markdown",
   "id": "f1af49a2-0395-448b-b106-5ec508ea0644",
   "metadata": {},
   "source": [
    "# STA 141B Project Proposal\n",
    "**Authors:** Riyaadh Bukhshdd, Nirmal Kaluvai, Talha Shafik\n",
    "\n",
    "## 1. Project Topic and Objectives\n",
    "**Topic:** Predictive time model development for day traders in the athletic apparel retail industry, focusing on Nike, Adidas, Under Armor, and Puma.\n",
    "\n",
    "**Objective:** Optimize profits within a given time period.\n",
    "\n",
    "**Example:** Predicting optimal returns for an individual looking to profit X dollars in 2 days.\n",
    "\n",
    "**Questions:** \n",
    "- Can predictive modeling enhance day trading strategies in clothing retail?\n",
    "- How can historical stock prices, news sentiment, and macroeconomic indicators forecast short-term price movements?\n",
    "\n",
    "**Relevance:** Aids day traders in the clothing retail industry by enhancing decision-making and maximizing profits.\n",
    "\n",
    "## 2. Data Sources\n",
    "- **Historical Stock Price Data:** Daily closing price, volume, and volatility from athletic apparel companies.\n",
    "- **Macroeconomic Indicators:** Consumer spending, inflation rates, retail sales data.\n",
    "- **Data Source Links:**\n",
    "  - Yahoo Finance: Historical financial data.\n",
    "  - U.S. Bureau of Economic Analysis: Qualitative data like recent events, news updates.\n",
    "\n",
    "## 3. Project Challenges\n",
    "- **Time Constraints:** Six weeks to collect/preprocess data, develop models, and evaluate performance.\n",
    "- **Model Complexity:** Adapting models to volatile market conditions and achieving stationarity.\n",
    "- **Data Quality:** Ensuring reliability, especially for sentiment data; attention to preprocessing and cleaning.\n",
    "\n",
    "**Conclusion:** Aiming to enhance trading strategies for day traders in the clothing retail industry through predictive time models. Feedback is welcomed for improvement.\n"
   ]
  },
  {
   "cell_type": "markdown",
   "id": "e8707636-0b81-4ac6-a2dd-971684cb8eac",
   "metadata": {},
   "source": [
    "# *DELETE LINKS BEFORE SUBMISSION*\n"
   ]
  }
 ],
 "metadata": {
  "kernelspec": {
   "display_name": "Python 3 (ipykernel)",
   "language": "python",
   "name": "python3"
  },
  "language_info": {
   "codemirror_mode": {
    "name": "ipython",
    "version": 3
   },
   "file_extension": ".py",
   "mimetype": "text/x-python",
   "name": "python",
   "nbconvert_exporter": "python",
   "pygments_lexer": "ipython3",
   "version": "3.9.13"
  }
 },
 "nbformat": 4,
 "nbformat_minor": 5
}
